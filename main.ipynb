{
 "cells": [
  {
   "cell_type": "code",
   "execution_count": null,
   "metadata": {},
   "outputs": [],
   "source": [
    "%%time"
   ]
  },
  {
   "cell_type": "code",
   "execution_count": 9,
   "metadata": {},
   "outputs": [],
   "source": [
    "# load urls\n",
    "import json\n",
    "\n",
    "with open('./data/urls.json') as f:\n",
    "    urls = json.load(f)['urls']"
   ]
  },
  {
   "cell_type": "code",
   "execution_count": 10,
   "metadata": {},
   "outputs": [
    {
     "data": {
      "text/plain": [
       "['https://www.notion.so/Atelier-nouveaux-usages-ff2ffa13eeb94d91a2d672d56b62be0a-5198447ed79746c590da4c3c9cb0cc81#cca152a983b148bbb4ef4323a4cbeb50',\n",
       " 'https://www.notion.so/Atelier-nouveaux-usages-ff2ffa13eeb94d91a2d672d56b62be0a-5198447ed79746c590da4c3c9cb0cc81#3258f0238d2847a0a5d5c17215893ecc',\n",
       " 'https://www.notion.so/Atelier-nouveaux-usages-ff2ffa13eeb94d91a2d672d56b62be0a-5198447ed79746c590da4c3c9cb0cc81#ff3f205c57e743bcbb1fd3b3f06abc4e',\n",
       " 'https://www.notion.so/Atelier-nouveaux-usages-ff2ffa13eeb94d91a2d672d56b62be0a-5198447ed79746c590da4c3c9cb0cc81#f499d30971934fe19aeeaf26747f8f39',\n",
       " 'https://www.notion.so/Atelier-nouveaux-usages-ff2ffa13eeb94d91a2d672d56b62be0a-5198447ed79746c590da4c3c9cb0cc81#6ce53a54a2bd4256afbaf077fbba9d1e',\n",
       " 'https://www.notion.so/Atelier-nouveaux-usages-ff2ffa13eeb94d91a2d672d56b62be0a-5198447ed79746c590da4c3c9cb0cc81#7cd489356fb5478283124624cd5b9b4d',\n",
       " 'https://www.notion.so/Atelier-nouveaux-usages-ff2ffa13eeb94d91a2d672d56b62be0a-5198447ed79746c590da4c3c9cb0cc81#20bffa6fd5124de69cca9d4a6fffd482',\n",
       " 'https://www.notion.so/Atelier-nouveaux-usages-ff2ffa13eeb94d91a2d672d56b62be0a-5198447ed79746c590da4c3c9cb0cc81#b0d7ef12ffd04774b8e077604ee6970c',\n",
       " 'https://www.notion.so/Atelier-nouveaux-usages-ff2ffa13eeb94d91a2d672d56b62be0a-5198447ed79746c590da4c3c9cb0cc81#218a03f964734edca85da19d766dc826',\n",
       " 'https://www.notion.so/Atelier-nouveaux-usages-ff2ffa13eeb94d91a2d672d56b62be0a-5198447ed79746c590da4c3c9cb0cc81#3e6ba423acf24ee0b5b3a3254c23f3f4',\n",
       " 'https://www.notion.so/Atelier-nouveaux-usages-ff2ffa13eeb94d91a2d672d56b62be0a-5198447ed79746c590da4c3c9cb0cc81#f3053073078e423ab26535febf14945d',\n",
       " 'https://www.notion.so/Atelier-nouveaux-usages-ff2ffa13eeb94d91a2d672d56b62be0a-5198447ed79746c590da4c3c9cb0cc81#d33b3788699f44b086a419d3eb0a6bc7',\n",
       " 'https://www.notion.so/Atelier-nouveaux-usages-ff2ffa13eeb94d91a2d672d56b62be0a-5198447ed79746c590da4c3c9cb0cc81#ebb8dd6dd5954002bb62c03781ad58e7',\n",
       " 'https://www.notion.so/Atelier-nouveaux-usages-ff2ffa13eeb94d91a2d672d56b62be0a-5198447ed79746c590da4c3c9cb0cc81#b7c9a63139c04c89a86f4c052fe0f8e9',\n",
       " 'https://www.notion.so/Atelier-nouveaux-usages-ff2ffa13eeb94d91a2d672d56b62be0a-5198447ed79746c590da4c3c9cb0cc81#b8cece22716a454796414766c310fc2c']"
      ]
     },
     "execution_count": 10,
     "metadata": {},
     "output_type": "execute_result"
    }
   ],
   "source": [
    "urls"
   ]
  },
  {
   "cell_type": "code",
   "execution_count": 11,
   "metadata": {},
   "outputs": [
    {
     "name": "stdout",
     "output_type": "stream",
     "text": [
      "|████████████████████████████████████████| 1000/1000 [100%] in 1.2s (832.19/s)  \n"
     ]
    }
   ],
   "source": [
    "from alive_progress import alive_bar\n",
    "import time\n",
    "\n",
    "with alive_bar(1000, force_tty=True) as bar:\n",
    "    for i in range(1000):\n",
    "        time.sleep(0.001)\n",
    "        bar()"
   ]
  },
  {
   "cell_type": "code",
   "execution_count": 12,
   "metadata": {},
   "outputs": [
    {
     "data": {
      "text/plain": [
       "True"
      ]
     },
     "execution_count": 12,
     "metadata": {},
     "output_type": "execute_result"
    }
   ],
   "source": [
    "from dotenv import load_dotenv\n",
    "\n",
    "load_dotenv(\"./.env\")"
   ]
  },
  {
   "cell_type": "code",
   "execution_count": 13,
   "metadata": {},
   "outputs": [],
   "source": [
    "import os\n",
    "NOTION_TOKEN = os.environ['NOTION_TOKEN']"
   ]
  },
  {
   "cell_type": "code",
   "execution_count": 14,
   "metadata": {},
   "outputs": [
    {
     "name": "stdout",
     "output_type": "stream",
     "text": [
      "|████████████████████████████████████████| 15/15 [100%] in 8.9s (1.58/s)        \n"
     ]
    }
   ],
   "source": [
    "import polars as pl\n",
    "import requests\n",
    "from tqdm import tqdm\n",
    "from alive_progress import alive_bar\n",
    "import re\n",
    "\n",
    "codes_naf = []\n",
    "codes_sp = []\n",
    "definitions = []\n",
    "groupes = []\n",
    "groupes_distinct = []\n",
    "\n",
    "\n",
    "with alive_bar(len(urls), force_tty=True) as bar:\n",
    "    for url in urls:\n",
    "        block_id = url[112:]\n",
    "        # print(block_id)\n",
    "        url = f\"https://api.notion.com/v1/blocks/{block_id}\"\n",
    "\n",
    "        headers = {\n",
    "            \"Accept\": \"application/json\",\n",
    "            \"Notion-Version\": \"2022-02-22\",\n",
    "            \"Authorization\": NOTION_TOKEN\n",
    "        }\n",
    "\n",
    "        response = requests.get(url, headers=headers)\n",
    "        text = response.text\n",
    "        # nom_groupe est le nom que l'on voulait donner au groupement de code NAF (un par URL)\n",
    "        nom_groupe = response.json()['numbered_list_item']['rich_text'][0]['text']['content']\n",
    "        groupes_distinct.append(nom_groupe)\n",
    "\n",
    "        # codes_list est la liste des codes naf récupérés sur la page\n",
    "        codes_list = re.findall(r\"\\d\\d\\d\\d[A-Z]\", text)\n",
    "        \n",
    "        codes_list = codes_list[:(len(codes_list) // 2)]\n",
    "        # definition est la définition donnée au code NAF correspondant\n",
    "        definition = re.findall(r\"\\((.*?)\\)\", text)\n",
    "        definition = definition[:(len(definition) // 2)]\n",
    "        definition = definition[1:]\n",
    "\n",
    "        definitions += definition\n",
    "\n",
    "        for code in codes_list:\n",
    "            codes_sp.append(code)\n",
    "            code_naf = code[0:2] + '.' + code[2:]\n",
    "            codes_naf.append(code_naf)\n",
    "            groupes.append(nom_groupe)\n",
    "        bar()\n",
    "\n",
    "with open(\"output/interesting_naf_codes.csv\", \"w\", encoding='utf-8') as file:\n",
    "    file.write(\"Code NAF|Définition|Groupe \\n\")\n",
    "    for i in range(len(codes_sp)):\n",
    "        file.write(codes_sp[i])\n",
    "        file.write('|')\n",
    "        file.write(definitions[i])\n",
    "        file.write('|')\n",
    "        file.write(groupes[i])\n",
    "        file.write('\\n')\n"
   ]
  },
  {
   "cell_type": "markdown",
   "metadata": {},
   "source": [
    "# now deal with big csvs"
   ]
  },
  {
   "cell_type": "code",
   "execution_count": 15,
   "metadata": {},
   "outputs": [],
   "source": [
    "GEOLOC_PATH = r\".\\data\\GeolocalisationEtablissement_Sirene_pour_etudes_statistiques_utf8\\GeolocalisationEtablissement_Sirene_pour_etudes_statistiques_utf8.csv\""
   ]
  },
  {
   "cell_type": "code",
   "execution_count": 16,
   "metadata": {},
   "outputs": [
    {
     "name": "stdout",
     "output_type": "stream",
     "text": [
      "headers :  siret;x;y;qualite_xy;epsg;plg_qp24;plg_iris;plg_zus;plg_qp15;plg_qva;plg_code_commune;distance_precision;qualite_qp24;qualite_iris;qualite_zus;qualite_qp15;qualite_qva;y_latitude;x_longitude\n",
      "\n",
      "first line :  30014695800081;824581.79;6621952.27;11;2154;CSZ;CSZ;CSZ;CSZ;CSZ;71201;;;;;;;46.686085838;4.6301694609\n",
      "\n"
     ]
    }
   ],
   "source": [
    "with open(GEOLOC_PATH) as f:\n",
    "    print(\"headers : \", f.readline())\n",
    "    print('first line : ', f.readline())"
   ]
  },
  {
   "cell_type": "code",
   "execution_count": 17,
   "metadata": {},
   "outputs": [],
   "source": [
    "reader = pl.read_csv_batched(\n",
    "    GEOLOC_PATH,\n",
    "    separator=\";\",\n",
    "    ignore_errors=True,\n",
    "    columns=['siret', 'x_longitude', 'y_latitude', 'plg_code_commune']\n",
    ")"
   ]
  },
  {
   "cell_type": "code",
   "execution_count": 18,
   "metadata": {},
   "outputs": [],
   "source": [
    "first_dataframe = reader.next_batches(1)[0]"
   ]
  },
  {
   "cell_type": "code",
   "execution_count": 19,
   "metadata": {},
   "outputs": [],
   "source": [
    "first_dataframe = first_dataframe.with_columns((first_dataframe[\"plg_code_commune\"]//1000).rename(\"departement\"))"
   ]
  },
  {
   "cell_type": "code",
   "execution_count": 20,
   "metadata": {},
   "outputs": [
    {
     "data": {
      "text/html": [
       "<div><style>\n",
       ".dataframe > thead > tr,\n",
       ".dataframe > tbody > tr {\n",
       "  text-align: right;\n",
       "  white-space: pre-wrap;\n",
       "}\n",
       "</style>\n",
       "<small>shape: (48_490, 5)</small><table border=\"1\" class=\"dataframe\"><thead><tr><th>siret</th><th>plg_code_commune</th><th>y_latitude</th><th>x_longitude</th><th>departement</th></tr><tr><td>i64</td><td>i64</td><td>f64</td><td>f64</td><td>i64</td></tr></thead><tbody><tr><td>30014695800081</td><td>71201</td><td>46.686086</td><td>4.630169</td><td>71</td></tr><tr><td>30462262400027</td><td>66114</td><td>42.60408</td><td>2.939352</td><td>66</td></tr><tr><td>31025238200026</td><td>73023</td><td>45.226824</td><td>6.739652</td><td>73</td></tr><tr><td>31163345700024</td><td>16368</td><td>45.597482</td><td>0.331143</td><td>16</td></tr><tr><td>3732059500079</td><td>6025</td><td>43.809367</td><td>7.187481</td><td>6</td></tr><tr><td>&hellip;</td><td>&hellip;</td><td>&hellip;</td><td>&hellip;</td><td>&hellip;</td></tr><tr><td>30779166500010</td><td>92050</td><td>48.91264</td><td>2.225717</td><td>92</td></tr><tr><td>30307287000015</td><td>92050</td><td>48.910815</td><td>2.221651</td><td>92</td></tr><tr><td>30449598900010</td><td>92050</td><td>48.904439</td><td>2.209469</td><td>92</td></tr><tr><td>30754988100026</td><td>92049</td><td>48.814655</td><td>2.316928</td><td>92</td></tr><tr><td>31079521600046</td><td>92049</td><td>48.814031</td><td>2.316925</td><td>92</td></tr></tbody></table></div>"
      ],
      "text/plain": [
       "shape: (48_490, 5)\n",
       "┌────────────────┬──────────────────┬────────────┬─────────────┬─────────────┐\n",
       "│ siret          ┆ plg_code_commune ┆ y_latitude ┆ x_longitude ┆ departement │\n",
       "│ ---            ┆ ---              ┆ ---        ┆ ---         ┆ ---         │\n",
       "│ i64            ┆ i64              ┆ f64        ┆ f64         ┆ i64         │\n",
       "╞════════════════╪══════════════════╪════════════╪═════════════╪═════════════╡\n",
       "│ 30014695800081 ┆ 71201            ┆ 46.686086  ┆ 4.630169    ┆ 71          │\n",
       "│ 30462262400027 ┆ 66114            ┆ 42.60408   ┆ 2.939352    ┆ 66          │\n",
       "│ 31025238200026 ┆ 73023            ┆ 45.226824  ┆ 6.739652    ┆ 73          │\n",
       "│ 31163345700024 ┆ 16368            ┆ 45.597482  ┆ 0.331143    ┆ 16          │\n",
       "│ 3732059500079  ┆ 6025             ┆ 43.809367  ┆ 7.187481    ┆ 6           │\n",
       "│ …              ┆ …                ┆ …          ┆ …           ┆ …           │\n",
       "│ 30779166500010 ┆ 92050            ┆ 48.91264   ┆ 2.225717    ┆ 92          │\n",
       "│ 30307287000015 ┆ 92050            ┆ 48.910815  ┆ 2.221651    ┆ 92          │\n",
       "│ 30449598900010 ┆ 92050            ┆ 48.904439  ┆ 2.209469    ┆ 92          │\n",
       "│ 30754988100026 ┆ 92049            ┆ 48.814655  ┆ 2.316928    ┆ 92          │\n",
       "│ 31079521600046 ┆ 92049            ┆ 48.814031  ┆ 2.316925    ┆ 92          │\n",
       "└────────────────┴──────────────────┴────────────┴─────────────┴─────────────┘"
      ]
     },
     "execution_count": 20,
     "metadata": {},
     "output_type": "execute_result"
    }
   ],
   "source": [
    "first_dataframe"
   ]
  },
  {
   "cell_type": "code",
   "execution_count": 21,
   "metadata": {},
   "outputs": [],
   "source": [
    "departements = [62, 59]"
   ]
  },
  {
   "cell_type": "code",
   "execution_count": 22,
   "metadata": {},
   "outputs": [
    {
     "data": {
      "text/html": [
       "<div><style>\n",
       ".dataframe > thead > tr,\n",
       ".dataframe > tbody > tr {\n",
       "  text-align: right;\n",
       "  white-space: pre-wrap;\n",
       "}\n",
       "</style>\n",
       "<small>shape: (1_370, 5)</small><table border=\"1\" class=\"dataframe\"><thead><tr><th>siret</th><th>plg_code_commune</th><th>y_latitude</th><th>x_longitude</th><th>departement</th></tr><tr><td>i64</td><td>i64</td><td>f64</td><td>f64</td><td>i64</td></tr></thead><tbody><tr><td>30989139800039</td><td>59636</td><td>50.69481</td><td>3.028376</td><td>59</td></tr><tr><td>30853080700038</td><td>59636</td><td>50.69481</td><td>3.028376</td><td>59</td></tr><tr><td>30925823400025</td><td>59636</td><td>50.69481</td><td>3.028376</td><td>59</td></tr><tr><td>31007069300018</td><td>59195</td><td>50.63102</td><td>2.965393</td><td>59</td></tr><tr><td>30395274100047</td><td>59195</td><td>50.63102</td><td>2.965393</td><td>59</td></tr><tr><td>&hellip;</td><td>&hellip;</td><td>&hellip;</td><td>&hellip;</td><td>&hellip;</td></tr><tr><td>30034580801630</td><td>62624</td><td>50.413018</td><td>2.992273</td><td>62</td></tr><tr><td>30613890000445</td><td>62624</td><td>50.412119</td><td>2.982439</td><td>62</td></tr><tr><td>30613890001138</td><td>62624</td><td>50.41571</td><td>2.981033</td><td>62</td></tr><tr><td>30844902411243</td><td>62624</td><td>50.412121</td><td>2.996488</td><td>62</td></tr><tr><td>30844902404453</td><td>62624</td><td>50.413016</td><td>2.976819</td><td>62</td></tr></tbody></table></div>"
      ],
      "text/plain": [
       "shape: (1_370, 5)\n",
       "┌────────────────┬──────────────────┬────────────┬─────────────┬─────────────┐\n",
       "│ siret          ┆ plg_code_commune ┆ y_latitude ┆ x_longitude ┆ departement │\n",
       "│ ---            ┆ ---              ┆ ---        ┆ ---         ┆ ---         │\n",
       "│ i64            ┆ i64              ┆ f64        ┆ f64         ┆ i64         │\n",
       "╞════════════════╪══════════════════╪════════════╪═════════════╪═════════════╡\n",
       "│ 30989139800039 ┆ 59636            ┆ 50.69481   ┆ 3.028376    ┆ 59          │\n",
       "│ 30853080700038 ┆ 59636            ┆ 50.69481   ┆ 3.028376    ┆ 59          │\n",
       "│ 30925823400025 ┆ 59636            ┆ 50.69481   ┆ 3.028376    ┆ 59          │\n",
       "│ 31007069300018 ┆ 59195            ┆ 50.63102   ┆ 2.965393    ┆ 59          │\n",
       "│ 30395274100047 ┆ 59195            ┆ 50.63102   ┆ 2.965393    ┆ 59          │\n",
       "│ …              ┆ …                ┆ …          ┆ …           ┆ …           │\n",
       "│ 30034580801630 ┆ 62624            ┆ 50.413018  ┆ 2.992273    ┆ 62          │\n",
       "│ 30613890000445 ┆ 62624            ┆ 50.412119  ┆ 2.982439    ┆ 62          │\n",
       "│ 30613890001138 ┆ 62624            ┆ 50.41571   ┆ 2.981033    ┆ 62          │\n",
       "│ 30844902411243 ┆ 62624            ┆ 50.412121  ┆ 2.996488    ┆ 62          │\n",
       "│ 30844902404453 ┆ 62624            ┆ 50.413016  ┆ 2.976819    ┆ 62          │\n",
       "└────────────────┴──────────────────┴────────────┴─────────────┴─────────────┘"
      ]
     },
     "execution_count": 22,
     "metadata": {},
     "output_type": "execute_result"
    }
   ],
   "source": [
    "first_dataframe.filter(pl.col(\"departement\").is_in(departements))"
   ]
  },
  {
   "cell_type": "code",
   "execution_count": 23,
   "metadata": {},
   "outputs": [],
   "source": [
    "# sauvegarder l'ensemble du dataframe mtn\n",
    "departements = [62, 59]\n",
    "reader = pl.read_csv_batched(\n",
    "    GEOLOC_PATH,\n",
    "    separator=\";\",\n",
    "    ignore_errors=True,\n",
    "    columns=['siret', 'x_longitude', 'y_latitude', 'plg_code_commune']\n",
    "    )\n",
    "batches = reader.next_batches(100)\n",
    "# trouver le nb de batches qui rend le truc le + rapide \n",
    "i = 0\n",
    "while batches:  \n",
    "    df_current_batches = pl.concat(batches)\n",
    "    # process df\n",
    "    df_current_batches = df_current_batches.with_columns((df_current_batches[\"plg_code_commune\"]//1000).rename(\"departement\"))\n",
    "    df_current_batches = df_current_batches.filter(pl.col(\"departement\").is_in(departements))\n",
    "\n",
    "    # save df\n",
    "    df_current_batches.write_csv(file=f\"./data/output/geoloc/geoloc_out_{i}.csv\", include_header=True)\n",
    "    i += 1\n",
    "    batches = reader.next_batches(100)"
   ]
  },
  {
   "cell_type": "markdown",
   "metadata": {},
   "source": [
    "# update etablissements"
   ]
  },
  {
   "cell_type": "code",
   "execution_count": 24,
   "metadata": {},
   "outputs": [],
   "source": [
    "PATH_ETABLISSEMENTS = r\".\\data\\StockEtablissement_utf8\\StockEtablissement_utf8.csv\""
   ]
  },
  {
   "cell_type": "code",
   "execution_count": 25,
   "metadata": {},
   "outputs": [],
   "source": [
    "headers_to_keep = [\n",
    "        'siren',\n",
    "        'siret',\n",
    "        'trancheEffectifsEtablissement',\n",
    "        'activitePrincipaleEtablissement',\n",
    "        'codeCommuneEtablissement'\n",
    "    ]"
   ]
  },
  {
   "cell_type": "code",
   "execution_count": 26,
   "metadata": {},
   "outputs": [],
   "source": [
    "reader = pl.read_csv_batched(\n",
    "    PATH_ETABLISSEMENTS,\n",
    "    separator=\",\",\n",
    "    ignore_errors=True,\n",
    "    columns=headers_to_keep\n",
    "    )  \n",
    "batches = reader.next_batches(100)"
   ]
  },
  {
   "cell_type": "code",
   "execution_count": 27,
   "metadata": {},
   "outputs": [],
   "source": [
    "import csv\n",
    "naf_codes = []\n",
    "with open(\"output/interesting_naf_codes.csv\", 'r', encoding='utf-8') as file:\n",
    "    csv_reader = csv.DictReader(file, delimiter='|')\n",
    "    for line in csv_reader:\n",
    "        naf_codes.append(line[\"Code NAF\"][:2] + '.' + line[\"Code NAF\"][2:])"
   ]
  },
  {
   "cell_type": "code",
   "execution_count": 28,
   "metadata": {},
   "outputs": [
    {
     "data": {
      "text/plain": [
       "['35.11Z',\n",
       " '35.12Z',\n",
       " '35.13Z',\n",
       " '35.14Z',\n",
       " '35.21Z',\n",
       " '35.22Z',\n",
       " '35.23Z',\n",
       " '36.00Z',\n",
       " '37.00Z',\n",
       " '38.11Z',\n",
       " '38.12Z',\n",
       " '38.21Z',\n",
       " '38.22Z',\n",
       " '38.32Z',\n",
       " '39.00Z',\n",
       " '32.11Z',\n",
       " '32.12Z',\n",
       " '32.13Z',\n",
       " '32.20Z',\n",
       " '32.30Z',\n",
       " '32.40Z',\n",
       " '32.50A',\n",
       " '32.50B',\n",
       " '32.91Z',\n",
       " '32.99Z',\n",
       " '33.11Z',\n",
       " '33.12Z',\n",
       " '33.13Z',\n",
       " '33.14Z',\n",
       " '33.15Z',\n",
       " '33.16Z',\n",
       " '33.17Z',\n",
       " '33.19Z',\n",
       " '33.20A',\n",
       " '33.20B',\n",
       " '33.20C',\n",
       " '33.20D',\n",
       " '24.10Z',\n",
       " '24.20Z',\n",
       " '24.31Z',\n",
       " '24.32Z',\n",
       " '24.33Z',\n",
       " '24.34Z',\n",
       " '24.42Z',\n",
       " '24.42Z',\n",
       " '24.43Z',\n",
       " '24.44Z',\n",
       " '24.45Z',\n",
       " '24.46Z',\n",
       " '24.51Z',\n",
       " '24.52Z',\n",
       " '24.53Z',\n",
       " '24.54Z',\n",
       " '25.11Z',\n",
       " '25.12Z',\n",
       " '25.21Z',\n",
       " '25.29Z',\n",
       " '25.30Z',\n",
       " '25.40Z',\n",
       " '25.50A',\n",
       " '25.50B',\n",
       " '25.61Z',\n",
       " '25.62A',\n",
       " '25.62B',\n",
       " '25.71Z',\n",
       " '25.72Z',\n",
       " '25.73A',\n",
       " '25.73B',\n",
       " '25.91Z',\n",
       " '25.92Z',\n",
       " '25.93Z',\n",
       " '25.94Z',\n",
       " '25.99A',\n",
       " '25.99B',\n",
       " '21.10Z',\n",
       " '21.20Z',\n",
       " '28.11Z',\n",
       " '28.12Z',\n",
       " '28.13Z',\n",
       " '28.14Z',\n",
       " '28.15Z',\n",
       " '28.21Z',\n",
       " '28.22Z',\n",
       " '28.23Z',\n",
       " '28.24Z',\n",
       " '28.25Z',\n",
       " '28.29A',\n",
       " '28.29B',\n",
       " '28.30Z',\n",
       " '28.41Z',\n",
       " '28.49Z',\n",
       " '28.91Z',\n",
       " '28.92Z',\n",
       " '28.93Z',\n",
       " '28.94Z',\n",
       " '28.95Z',\n",
       " '28.96Z',\n",
       " '28.99A',\n",
       " '28.99B',\n",
       " '20.11Z',\n",
       " '20.12Z',\n",
       " '20.13A',\n",
       " '20.13B',\n",
       " '20.14Z',\n",
       " '20.15Z',\n",
       " '20.16Z',\n",
       " '20.17Z',\n",
       " '20.20Z',\n",
       " '20.30Z',\n",
       " '20.41Z',\n",
       " '20.42Z',\n",
       " '20.51Z',\n",
       " '20.52Z',\n",
       " '20.53Z',\n",
       " '20.59Z',\n",
       " '20.60Z',\n",
       " '10.11Z',\n",
       " '10.12Z',\n",
       " '10.13A',\n",
       " '10.13B',\n",
       " '10.20Z',\n",
       " '10.31Z',\n",
       " '10.32Z',\n",
       " '10.39A',\n",
       " '10.39B',\n",
       " '10.41A',\n",
       " '10.41B',\n",
       " '10.42Z',\n",
       " '10.51A',\n",
       " '10.51B',\n",
       " '10.51C',\n",
       " '10.51D',\n",
       " '10.52Z',\n",
       " '10.61A',\n",
       " '10.61B',\n",
       " '10.62Z',\n",
       " '10.71A',\n",
       " '10.71B',\n",
       " '10.71C',\n",
       " '10.71D',\n",
       " '10.72Z',\n",
       " '10.73Z',\n",
       " '10.81Z',\n",
       " '10.82Z',\n",
       " '10.83Z',\n",
       " '10.84Z',\n",
       " '10.85Z',\n",
       " '10.86Z',\n",
       " '10.89Z',\n",
       " '10.91Z',\n",
       " '10.92Z',\n",
       " '11.01Z',\n",
       " '11.02A',\n",
       " '11.02B',\n",
       " '11.03Z',\n",
       " '11.04Z',\n",
       " '11.05Z',\n",
       " '11.06Z',\n",
       " '11.07A',\n",
       " '11.07B',\n",
       " '12.00Z',\n",
       " '29.10Z',\n",
       " '29.20Z',\n",
       " '29.31Z',\n",
       " '29.32Z',\n",
       " '30.11Z',\n",
       " '30.12Z',\n",
       " '30.20Z',\n",
       " '30.30Z',\n",
       " '30.40Z',\n",
       " '30.91Z',\n",
       " '30.92Z',\n",
       " '30.99Z',\n",
       " '22.11Z',\n",
       " '22.19Z',\n",
       " '22.21Z',\n",
       " '22.22Z',\n",
       " '22.23Z',\n",
       " '22.29A',\n",
       " '22.29B',\n",
       " '23.11Z',\n",
       " '23.12Z',\n",
       " '23.13Z',\n",
       " '23.14Z',\n",
       " '23.19Z',\n",
       " '23.20Z',\n",
       " '23.31Z',\n",
       " '23.32Z',\n",
       " '23.41Z',\n",
       " '23.42Z',\n",
       " '23.43Z',\n",
       " '23.44Z',\n",
       " '23.49Z',\n",
       " '23.51Z',\n",
       " '23.52Z',\n",
       " '23.61Z',\n",
       " '23.62Z',\n",
       " '23.63Z',\n",
       " '23.64Z',\n",
       " '23.65Z',\n",
       " '23.69Z',\n",
       " '23.70Z',\n",
       " '23.91Z',\n",
       " '23.99Z',\n",
       " '27.11Z',\n",
       " '27.12Z',\n",
       " '27.20Z',\n",
       " '27.31Z',\n",
       " '27.32Z',\n",
       " '27.33Z',\n",
       " '27.40Z',\n",
       " '27.51Z',\n",
       " '27.52Z',\n",
       " '27.90Z',\n",
       " '16.10A',\n",
       " '16.10B',\n",
       " '16.21Z',\n",
       " '16.22Z',\n",
       " '16.23Z',\n",
       " '16.24Z',\n",
       " '16.29Z',\n",
       " '17.11Z',\n",
       " '17.12Z',\n",
       " '17.21A',\n",
       " '17.21B',\n",
       " '17.21C',\n",
       " '17.22Z',\n",
       " '17.23Z',\n",
       " '17.24Z',\n",
       " '17.29Z',\n",
       " '13.10Z',\n",
       " '13.20Z',\n",
       " '13.30Z',\n",
       " '13.91Z',\n",
       " '13.92Z',\n",
       " '13.93Z',\n",
       " '13.94Z',\n",
       " '13.95Z',\n",
       " '13.96Z',\n",
       " '13.99Z',\n",
       " '14.11Z',\n",
       " '14.12Z',\n",
       " '14.13Z',\n",
       " '14.14Z',\n",
       " '14.19Z',\n",
       " '14.20Z',\n",
       " '14.31Z',\n",
       " '14.39Z',\n",
       " '15.11Z',\n",
       " '15.12Z',\n",
       " '15.20Z',\n",
       " '26.11Z',\n",
       " '26.12Z',\n",
       " '26.20Z',\n",
       " '26.30Z',\n",
       " '26.40Z',\n",
       " '26.51A',\n",
       " '26.51B',\n",
       " '26.52Z',\n",
       " '26.60Z',\n",
       " '26.70Z',\n",
       " '26.80Z',\n",
       " '19.10Z',\n",
       " '19.20Z',\n",
       " '05.10Z',\n",
       " '05.20Z',\n",
       " '06.10Z',\n",
       " '06.20Z',\n",
       " '07.10Z',\n",
       " '07.21Z',\n",
       " '07.29Z',\n",
       " '08.11Z',\n",
       " '08.12Z',\n",
       " '08.91Z',\n",
       " '08.92Z',\n",
       " '08.93Z',\n",
       " '08.99Z']"
      ]
     },
     "execution_count": 28,
     "metadata": {},
     "output_type": "execute_result"
    }
   ],
   "source": [
    "naf_codes"
   ]
  },
  {
   "cell_type": "code",
   "execution_count": 29,
   "metadata": {},
   "outputs": [],
   "source": [
    "# trouver le nb de batches qui rend le truc le + rapide\n",
    "# chargement en mémoire des codes nafs\n",
    "\n",
    "i = 0\n",
    "while batches:  \n",
    "    df_current_batches = pl.concat(batches)\n",
    "    \n",
    "    # process df\n",
    "    df_current_batches = df_current_batches.with_columns((df_current_batches[\"codeCommuneEtablissement\"]//1000).rename(\"departement\"))\n",
    "    df_current_batches = df_current_batches.filter(pl.col(\"departement\").is_in(departements))\n",
    "    df_current_batches = df_current_batches.filter(pl.col(\"trancheEffectifsEtablissement\").is_not_null())\n",
    "    df_current_batches = df_current_batches.filter(pl.col(\"activitePrincipaleEtablissement\").is_in(naf_codes))\n",
    "    # save df\n",
    "    df_current_batches.write_csv(file=f\"./data/output/etablissement/etablissement_{i}.csv\", include_header=True)\n",
    "    i += 1\n",
    "    batches = reader.next_batches(100)"
   ]
  },
  {
   "cell_type": "code",
   "execution_count": 30,
   "metadata": {},
   "outputs": [],
   "source": [
    "# merger et faire une jointure des 2\n",
    "\n",
    "# lists paths in etablissmeent\n",
    "DIR_ETABLISSEMENTS = r\".\\data\\output\\etablissement\"\n",
    "paths_etablissement = os.listdir(DIR_ETABLISSEMENTS)\n",
    "list_df = []\n",
    "for PATH_FILE_ETABLISSEMENT in paths_etablissement:\n",
    "    PATH_ETABLISSEMENT = os.path.join(DIR_ETABLISSEMENTS, PATH_ETABLISSEMENT)\n",
    "    list_df.append(pl.read_csv(PATH_ETABLISSEMENT))\n"
   ]
  },
  {
   "cell_type": "code",
   "execution_count": 31,
   "metadata": {},
   "outputs": [],
   "source": [
    "df_etablissements = pl.concat(list_df)"
   ]
  },
  {
   "cell_type": "code",
   "execution_count": 32,
   "metadata": {},
   "outputs": [],
   "source": [
    "# merger et faire une jointure des 2\n",
    "\n",
    "# lists paths in etablissmeent\n",
    "DIR_GEOLOC = r\".\\data\\output\\geoloc\"\n",
    "paths_geoloc = os.listdir(DIR_GEOLOC)\n",
    "list_df = []\n",
    "for PATH_FILE_GEOLOC in paths_geoloc:\n",
    "    PATH_GEOLOC = os.path.join(DIR_GEOLOC, paths_geoloc[0])\n",
    "    list_df.append(pl.read_csv(PATH_GEOLOC))\n",
    "df_geoloc = pl.concat(list_df)"
   ]
  },
  {
   "cell_type": "code",
   "execution_count": 33,
   "metadata": {},
   "outputs": [
    {
     "data": {
      "text/html": [
       "<div><style>\n",
       ".dataframe > thead > tr,\n",
       ".dataframe > tbody > tr {\n",
       "  text-align: right;\n",
       "  white-space: pre-wrap;\n",
       "}\n",
       "</style>\n",
       "<small>shape: (7_232, 6)</small><table border=\"1\" class=\"dataframe\"><thead><tr><th>siren</th><th>siret</th><th>trancheEffectifsEtablissement</th><th>codeCommuneEtablissement</th><th>activitePrincipaleEtablissement</th><th>departement</th></tr><tr><td>i64</td><td>i64</td><td>i64</td><td>i64</td><td>str</td><td>i64</td></tr></thead><tbody><tr><td>45550571</td><td>4555057100041</td><td>11</td><td>59178</td><td>&quot;36.00Z&quot;</td><td>59</td></tr><tr><td>45650454</td><td>4565045400023</td><td>12</td><td>59327</td><td>&quot;37.00Z&quot;</td><td>59</td></tr><tr><td>45650538</td><td>4565053800023</td><td>22</td><td>59574</td><td>&quot;25.92Z&quot;</td><td>59</td></tr><tr><td>45750601</td><td>4575060100010</td><td>11</td><td>59178</td><td>&quot;25.61Z&quot;</td><td>59</td></tr><tr><td>45750817</td><td>4575081700012</td><td>22</td><td>59449</td><td>&quot;10.83Z&quot;</td><td>59</td></tr><tr><td>&hellip;</td><td>&hellip;</td><td>&hellip;</td><td>&hellip;</td><td>&hellip;</td><td>&hellip;</td></tr><tr><td>345308936</td><td>34530893600029</td><td>21</td><td>59273</td><td>&quot;24.10Z&quot;</td><td>59</td></tr><tr><td>345310965</td><td>34531096500024</td><td>3</td><td>59202</td><td>&quot;25.11Z&quot;</td><td>59</td></tr><tr><td>345332977</td><td>34533297700064</td><td>12</td><td>62276</td><td>&quot;28.41Z&quot;</td><td>62</td></tr><tr><td>345351183</td><td>34535118300503</td><td>12</td><td>59560</td><td>&quot;33.20B&quot;</td><td>59</td></tr><tr><td>347527012</td><td>34752701200012</td><td>12</td><td>62276</td><td>&quot;25.73A&quot;</td><td>62</td></tr></tbody></table></div>"
      ],
      "text/plain": [
       "shape: (7_232, 6)\n",
       "┌───────────┬────────────────┬──────────────────┬──────────────────┬─────────────────┬─────────────┐\n",
       "│ siren     ┆ siret          ┆ trancheEffectifs ┆ codeCommuneEtabl ┆ activitePrincip ┆ departement │\n",
       "│ ---       ┆ ---            ┆ Etablissement    ┆ issement         ┆ aleEtablissemen ┆ ---         │\n",
       "│ i64       ┆ i64            ┆ ---              ┆ ---              ┆ …               ┆ i64         │\n",
       "│           ┆                ┆ i64              ┆ i64              ┆ ---             ┆             │\n",
       "│           ┆                ┆                  ┆                  ┆ str             ┆             │\n",
       "╞═══════════╪════════════════╪══════════════════╪══════════════════╪═════════════════╪═════════════╡\n",
       "│ 45550571  ┆ 4555057100041  ┆ 11               ┆ 59178            ┆ 36.00Z          ┆ 59          │\n",
       "│ 45650454  ┆ 4565045400023  ┆ 12               ┆ 59327            ┆ 37.00Z          ┆ 59          │\n",
       "│ 45650538  ┆ 4565053800023  ┆ 22               ┆ 59574            ┆ 25.92Z          ┆ 59          │\n",
       "│ 45750601  ┆ 4575060100010  ┆ 11               ┆ 59178            ┆ 25.61Z          ┆ 59          │\n",
       "│ 45750817  ┆ 4575081700012  ┆ 22               ┆ 59449            ┆ 10.83Z          ┆ 59          │\n",
       "│ …         ┆ …              ┆ …                ┆ …                ┆ …               ┆ …           │\n",
       "│ 345308936 ┆ 34530893600029 ┆ 21               ┆ 59273            ┆ 24.10Z          ┆ 59          │\n",
       "│ 345310965 ┆ 34531096500024 ┆ 3                ┆ 59202            ┆ 25.11Z          ┆ 59          │\n",
       "│ 345332977 ┆ 34533297700064 ┆ 12               ┆ 62276            ┆ 28.41Z          ┆ 62          │\n",
       "│ 345351183 ┆ 34535118300503 ┆ 12               ┆ 59560            ┆ 33.20B          ┆ 59          │\n",
       "│ 347527012 ┆ 34752701200012 ┆ 12               ┆ 62276            ┆ 25.73A          ┆ 62          │\n",
       "└───────────┴────────────────┴──────────────────┴──────────────────┴─────────────────┴─────────────┘"
      ]
     },
     "execution_count": 33,
     "metadata": {},
     "output_type": "execute_result"
    }
   ],
   "source": [
    "df_etablissements"
   ]
  },
  {
   "cell_type": "code",
   "execution_count": 34,
   "metadata": {},
   "outputs": [
    {
     "data": {
      "text/html": [
       "<div><style>\n",
       ".dataframe > thead > tr,\n",
       ".dataframe > tbody > tr {\n",
       "  text-align: right;\n",
       "  white-space: pre-wrap;\n",
       "}\n",
       "</style>\n",
       "<small>shape: (1_681_904, 5)</small><table border=\"1\" class=\"dataframe\"><thead><tr><th>siret</th><th>plg_code_commune</th><th>y_latitude</th><th>x_longitude</th><th>departement</th></tr><tr><td>i64</td><td>i64</td><td>f64</td><td>f64</td><td>i64</td></tr></thead><tbody><tr><td>30989139800039</td><td>59636</td><td>50.69481</td><td>3.028376</td><td>59</td></tr><tr><td>30853080700038</td><td>59636</td><td>50.69481</td><td>3.028376</td><td>59</td></tr><tr><td>30925823400025</td><td>59636</td><td>50.69481</td><td>3.028376</td><td>59</td></tr><tr><td>31007069300018</td><td>59195</td><td>50.63102</td><td>2.965393</td><td>59</td></tr><tr><td>30395274100047</td><td>59195</td><td>50.63102</td><td>2.965393</td><td>59</td></tr><tr><td>&hellip;</td><td>&hellip;</td><td>&hellip;</td><td>&hellip;</td><td>&hellip;</td></tr><tr><td>35132065000168</td><td>59256</td><td>50.578354</td><td>3.131458</td><td>59</td></tr><tr><td>34130073900024</td><td>59256</td><td>50.578354</td><td>3.131458</td><td>59</td></tr><tr><td>34323414201109</td><td>59256</td><td>50.57855</td><td>3.131582</td><td>59</td></tr><tr><td>34320733800025</td><td>59256</td><td>50.578108</td><td>3.131788</td><td>59</td></tr><tr><td>34920376000039</td><td>59256</td><td>50.5799</td><td>3.134612</td><td>59</td></tr></tbody></table></div>"
      ],
      "text/plain": [
       "shape: (1_681_904, 5)\n",
       "┌────────────────┬──────────────────┬────────────┬─────────────┬─────────────┐\n",
       "│ siret          ┆ plg_code_commune ┆ y_latitude ┆ x_longitude ┆ departement │\n",
       "│ ---            ┆ ---              ┆ ---        ┆ ---         ┆ ---         │\n",
       "│ i64            ┆ i64              ┆ f64        ┆ f64         ┆ i64         │\n",
       "╞════════════════╪══════════════════╪════════════╪═════════════╪═════════════╡\n",
       "│ 30989139800039 ┆ 59636            ┆ 50.69481   ┆ 3.028376    ┆ 59          │\n",
       "│ 30853080700038 ┆ 59636            ┆ 50.69481   ┆ 3.028376    ┆ 59          │\n",
       "│ 30925823400025 ┆ 59636            ┆ 50.69481   ┆ 3.028376    ┆ 59          │\n",
       "│ 31007069300018 ┆ 59195            ┆ 50.63102   ┆ 2.965393    ┆ 59          │\n",
       "│ 30395274100047 ┆ 59195            ┆ 50.63102   ┆ 2.965393    ┆ 59          │\n",
       "│ …              ┆ …                ┆ …          ┆ …           ┆ …           │\n",
       "│ 35132065000168 ┆ 59256            ┆ 50.578354  ┆ 3.131458    ┆ 59          │\n",
       "│ 34130073900024 ┆ 59256            ┆ 50.578354  ┆ 3.131458    ┆ 59          │\n",
       "│ 34323414201109 ┆ 59256            ┆ 50.57855   ┆ 3.131582    ┆ 59          │\n",
       "│ 34320733800025 ┆ 59256            ┆ 50.578108  ┆ 3.131788    ┆ 59          │\n",
       "│ 34920376000039 ┆ 59256            ┆ 50.5799    ┆ 3.134612    ┆ 59          │\n",
       "└────────────────┴──────────────────┴────────────┴─────────────┴─────────────┘"
      ]
     },
     "execution_count": 34,
     "metadata": {},
     "output_type": "execute_result"
    }
   ],
   "source": [
    "df_geoloc"
   ]
  },
  {
   "cell_type": "code",
   "execution_count": 35,
   "metadata": {},
   "outputs": [],
   "source": [
    "df_total = df_etablissements.join(df_geoloc, on=[\"siret\", \"departement\"])"
   ]
  },
  {
   "cell_type": "code",
   "execution_count": 36,
   "metadata": {},
   "outputs": [],
   "source": [
    "df_total = df_total.rename({\n",
    "    'x_longitude': 'lng',\n",
    "    'y_latitude': 'lat',\n",
    "    'trancheEffectifsEtablissement': 'RH',\n",
    "    'activitePrincipaleEtablissement': 'NAF'\n",
    "    })"
   ]
  },
  {
   "cell_type": "code",
   "execution_count": 37,
   "metadata": {},
   "outputs": [],
   "source": [
    "dict_rh = {\n",
    "    0: 0,\n",
    "    1: 2,\n",
    "    2: 4,\n",
    "    3: 8,\n",
    "    11: 15,\n",
    "    12: 35,\n",
    "    21: 75,\n",
    "    22: 150,\n",
    "    31: 225,\n",
    "    32: 350,\n",
    "    41: 750,\n",
    "    42: 1500,\n",
    "    51: 3500,\n",
    "    52: 7500,\n",
    "    53: 10000\n",
    "}"
   ]
  },
  {
   "cell_type": "code",
   "execution_count": 38,
   "metadata": {},
   "outputs": [
    {
     "data": {
      "text/html": [
       "<div><style>\n",
       ".dataframe > thead > tr,\n",
       ".dataframe > tbody > tr {\n",
       "  text-align: right;\n",
       "  white-space: pre-wrap;\n",
       "}\n",
       "</style>\n",
       "<small>shape: (50_880, 9)</small><table border=\"1\" class=\"dataframe\"><thead><tr><th>siren</th><th>siret</th><th>RH</th><th>codeCommuneEtablissement</th><th>NAF</th><th>departement</th><th>plg_code_commune</th><th>lat</th><th>lng</th></tr><tr><td>i64</td><td>i64</td><td>i64</td><td>i64</td><td>str</td><td>i64</td><td>i64</td><td>f64</td><td>f64</td></tr></thead><tbody><tr><td>303467476</td><td>30346747600022</td><td>11</td><td>62331</td><td>&quot;25.62B&quot;</td><td>62</td><td>62331</td><td>50.274984</td><td>2.852314</td></tr><tr><td>303467476</td><td>30346747600022</td><td>11</td><td>62331</td><td>&quot;25.62B&quot;</td><td>62</td><td>62331</td><td>50.274984</td><td>2.852314</td></tr><tr><td>303467476</td><td>30346747600022</td><td>11</td><td>62331</td><td>&quot;25.62B&quot;</td><td>62</td><td>62331</td><td>50.274984</td><td>2.852314</td></tr><tr><td>303467476</td><td>30346747600022</td><td>11</td><td>62331</td><td>&quot;25.62B&quot;</td><td>62</td><td>62331</td><td>50.274984</td><td>2.852314</td></tr><tr><td>303467476</td><td>30346747600022</td><td>11</td><td>62331</td><td>&quot;25.62B&quot;</td><td>62</td><td>62331</td><td>50.274984</td><td>2.852314</td></tr><tr><td>&hellip;</td><td>&hellip;</td><td>&hellip;</td><td>&hellip;</td><td>&hellip;</td><td>&hellip;</td><td>&hellip;</td><td>&hellip;</td><td>&hellip;</td></tr><tr><td>344280979</td><td>34428097900057</td><td>3</td><td>59034</td><td>&quot;33.14Z&quot;</td><td>59</td><td>59034</td><td>50.541762</td><td>3.098688</td></tr><tr><td>344280979</td><td>34428097900057</td><td>3</td><td>59034</td><td>&quot;33.14Z&quot;</td><td>59</td><td>59034</td><td>50.541762</td><td>3.098688</td></tr><tr><td>344280979</td><td>34428097900057</td><td>3</td><td>59034</td><td>&quot;33.14Z&quot;</td><td>59</td><td>59034</td><td>50.541762</td><td>3.098688</td></tr><tr><td>344280979</td><td>34428097900057</td><td>3</td><td>59034</td><td>&quot;33.14Z&quot;</td><td>59</td><td>59034</td><td>50.541762</td><td>3.098688</td></tr><tr><td>344280979</td><td>34428097900057</td><td>3</td><td>59034</td><td>&quot;33.14Z&quot;</td><td>59</td><td>59034</td><td>50.541762</td><td>3.098688</td></tr></tbody></table></div>"
      ],
      "text/plain": [
       "shape: (50_880, 9)\n",
       "┌───────────┬─────────────┬─────┬─────────────┬───┬────────────┬────────────┬───────────┬──────────┐\n",
       "│ siren     ┆ siret       ┆ RH  ┆ codeCommune ┆ … ┆ departemen ┆ plg_code_c ┆ lat       ┆ lng      │\n",
       "│ ---       ┆ ---         ┆ --- ┆ Etablisseme ┆   ┆ t          ┆ ommune     ┆ ---       ┆ ---      │\n",
       "│ i64       ┆ i64         ┆ i64 ┆ nt          ┆   ┆ ---        ┆ ---        ┆ f64       ┆ f64      │\n",
       "│           ┆             ┆     ┆ ---         ┆   ┆ i64        ┆ i64        ┆           ┆          │\n",
       "│           ┆             ┆     ┆ i64         ┆   ┆            ┆            ┆           ┆          │\n",
       "╞═══════════╪═════════════╪═════╪═════════════╪═══╪════════════╪════════════╪═══════════╪══════════╡\n",
       "│ 303467476 ┆ 30346747600 ┆ 11  ┆ 62331       ┆ … ┆ 62         ┆ 62331      ┆ 50.274984 ┆ 2.852314 │\n",
       "│           ┆ 022         ┆     ┆             ┆   ┆            ┆            ┆           ┆          │\n",
       "│ 303467476 ┆ 30346747600 ┆ 11  ┆ 62331       ┆ … ┆ 62         ┆ 62331      ┆ 50.274984 ┆ 2.852314 │\n",
       "│           ┆ 022         ┆     ┆             ┆   ┆            ┆            ┆           ┆          │\n",
       "│ 303467476 ┆ 30346747600 ┆ 11  ┆ 62331       ┆ … ┆ 62         ┆ 62331      ┆ 50.274984 ┆ 2.852314 │\n",
       "│           ┆ 022         ┆     ┆             ┆   ┆            ┆            ┆           ┆          │\n",
       "│ 303467476 ┆ 30346747600 ┆ 11  ┆ 62331       ┆ … ┆ 62         ┆ 62331      ┆ 50.274984 ┆ 2.852314 │\n",
       "│           ┆ 022         ┆     ┆             ┆   ┆            ┆            ┆           ┆          │\n",
       "│ 303467476 ┆ 30346747600 ┆ 11  ┆ 62331       ┆ … ┆ 62         ┆ 62331      ┆ 50.274984 ┆ 2.852314 │\n",
       "│           ┆ 022         ┆     ┆             ┆   ┆            ┆            ┆           ┆          │\n",
       "│ …         ┆ …           ┆ …   ┆ …           ┆ … ┆ …          ┆ …          ┆ …         ┆ …        │\n",
       "│ 344280979 ┆ 34428097900 ┆ 3   ┆ 59034       ┆ … ┆ 59         ┆ 59034      ┆ 50.541762 ┆ 3.098688 │\n",
       "│           ┆ 057         ┆     ┆             ┆   ┆            ┆            ┆           ┆          │\n",
       "│ 344280979 ┆ 34428097900 ┆ 3   ┆ 59034       ┆ … ┆ 59         ┆ 59034      ┆ 50.541762 ┆ 3.098688 │\n",
       "│           ┆ 057         ┆     ┆             ┆   ┆            ┆            ┆           ┆          │\n",
       "│ 344280979 ┆ 34428097900 ┆ 3   ┆ 59034       ┆ … ┆ 59         ┆ 59034      ┆ 50.541762 ┆ 3.098688 │\n",
       "│           ┆ 057         ┆     ┆             ┆   ┆            ┆            ┆           ┆          │\n",
       "│ 344280979 ┆ 34428097900 ┆ 3   ┆ 59034       ┆ … ┆ 59         ┆ 59034      ┆ 50.541762 ┆ 3.098688 │\n",
       "│           ┆ 057         ┆     ┆             ┆   ┆            ┆            ┆           ┆          │\n",
       "│ 344280979 ┆ 34428097900 ┆ 3   ┆ 59034       ┆ … ┆ 59         ┆ 59034      ┆ 50.541762 ┆ 3.098688 │\n",
       "│           ┆ 057         ┆     ┆             ┆   ┆            ┆            ┆           ┆          │\n",
       "└───────────┴─────────────┴─────┴─────────────┴───┴────────────┴────────────┴───────────┴──────────┘"
      ]
     },
     "execution_count": 38,
     "metadata": {},
     "output_type": "execute_result"
    }
   ],
   "source": [
    "df_total"
   ]
  },
  {
   "cell_type": "code",
   "execution_count": 39,
   "metadata": {},
   "outputs": [],
   "source": [
    "df_total = df_total.with_columns(\n",
    "    pl.col(\"RH\").replace_strict(\n",
    "        dict_rh\n",
    "    )\n",
    ")"
   ]
  },
  {
   "cell_type": "code",
   "execution_count": 40,
   "metadata": {},
   "outputs": [
    {
     "data": {
      "text/html": [
       "<div><style>\n",
       ".dataframe > thead > tr,\n",
       ".dataframe > tbody > tr {\n",
       "  text-align: right;\n",
       "  white-space: pre-wrap;\n",
       "}\n",
       "</style>\n",
       "<small>shape: (50_880, 9)</small><table border=\"1\" class=\"dataframe\"><thead><tr><th>siren</th><th>siret</th><th>RH</th><th>codeCommuneEtablissement</th><th>NAF</th><th>departement</th><th>plg_code_commune</th><th>lat</th><th>lng</th></tr><tr><td>i64</td><td>i64</td><td>i64</td><td>i64</td><td>str</td><td>i64</td><td>i64</td><td>f64</td><td>f64</td></tr></thead><tbody><tr><td>303467476</td><td>30346747600022</td><td>15</td><td>62331</td><td>&quot;25.62B&quot;</td><td>62</td><td>62331</td><td>50.274984</td><td>2.852314</td></tr><tr><td>303467476</td><td>30346747600022</td><td>15</td><td>62331</td><td>&quot;25.62B&quot;</td><td>62</td><td>62331</td><td>50.274984</td><td>2.852314</td></tr><tr><td>303467476</td><td>30346747600022</td><td>15</td><td>62331</td><td>&quot;25.62B&quot;</td><td>62</td><td>62331</td><td>50.274984</td><td>2.852314</td></tr><tr><td>303467476</td><td>30346747600022</td><td>15</td><td>62331</td><td>&quot;25.62B&quot;</td><td>62</td><td>62331</td><td>50.274984</td><td>2.852314</td></tr><tr><td>303467476</td><td>30346747600022</td><td>15</td><td>62331</td><td>&quot;25.62B&quot;</td><td>62</td><td>62331</td><td>50.274984</td><td>2.852314</td></tr><tr><td>&hellip;</td><td>&hellip;</td><td>&hellip;</td><td>&hellip;</td><td>&hellip;</td><td>&hellip;</td><td>&hellip;</td><td>&hellip;</td><td>&hellip;</td></tr><tr><td>344280979</td><td>34428097900057</td><td>8</td><td>59034</td><td>&quot;33.14Z&quot;</td><td>59</td><td>59034</td><td>50.541762</td><td>3.098688</td></tr><tr><td>344280979</td><td>34428097900057</td><td>8</td><td>59034</td><td>&quot;33.14Z&quot;</td><td>59</td><td>59034</td><td>50.541762</td><td>3.098688</td></tr><tr><td>344280979</td><td>34428097900057</td><td>8</td><td>59034</td><td>&quot;33.14Z&quot;</td><td>59</td><td>59034</td><td>50.541762</td><td>3.098688</td></tr><tr><td>344280979</td><td>34428097900057</td><td>8</td><td>59034</td><td>&quot;33.14Z&quot;</td><td>59</td><td>59034</td><td>50.541762</td><td>3.098688</td></tr><tr><td>344280979</td><td>34428097900057</td><td>8</td><td>59034</td><td>&quot;33.14Z&quot;</td><td>59</td><td>59034</td><td>50.541762</td><td>3.098688</td></tr></tbody></table></div>"
      ],
      "text/plain": [
       "shape: (50_880, 9)\n",
       "┌───────────┬─────────────┬─────┬─────────────┬───┬────────────┬────────────┬───────────┬──────────┐\n",
       "│ siren     ┆ siret       ┆ RH  ┆ codeCommune ┆ … ┆ departemen ┆ plg_code_c ┆ lat       ┆ lng      │\n",
       "│ ---       ┆ ---         ┆ --- ┆ Etablisseme ┆   ┆ t          ┆ ommune     ┆ ---       ┆ ---      │\n",
       "│ i64       ┆ i64         ┆ i64 ┆ nt          ┆   ┆ ---        ┆ ---        ┆ f64       ┆ f64      │\n",
       "│           ┆             ┆     ┆ ---         ┆   ┆ i64        ┆ i64        ┆           ┆          │\n",
       "│           ┆             ┆     ┆ i64         ┆   ┆            ┆            ┆           ┆          │\n",
       "╞═══════════╪═════════════╪═════╪═════════════╪═══╪════════════╪════════════╪═══════════╪══════════╡\n",
       "│ 303467476 ┆ 30346747600 ┆ 15  ┆ 62331       ┆ … ┆ 62         ┆ 62331      ┆ 50.274984 ┆ 2.852314 │\n",
       "│           ┆ 022         ┆     ┆             ┆   ┆            ┆            ┆           ┆          │\n",
       "│ 303467476 ┆ 30346747600 ┆ 15  ┆ 62331       ┆ … ┆ 62         ┆ 62331      ┆ 50.274984 ┆ 2.852314 │\n",
       "│           ┆ 022         ┆     ┆             ┆   ┆            ┆            ┆           ┆          │\n",
       "│ 303467476 ┆ 30346747600 ┆ 15  ┆ 62331       ┆ … ┆ 62         ┆ 62331      ┆ 50.274984 ┆ 2.852314 │\n",
       "│           ┆ 022         ┆     ┆             ┆   ┆            ┆            ┆           ┆          │\n",
       "│ 303467476 ┆ 30346747600 ┆ 15  ┆ 62331       ┆ … ┆ 62         ┆ 62331      ┆ 50.274984 ┆ 2.852314 │\n",
       "│           ┆ 022         ┆     ┆             ┆   ┆            ┆            ┆           ┆          │\n",
       "│ 303467476 ┆ 30346747600 ┆ 15  ┆ 62331       ┆ … ┆ 62         ┆ 62331      ┆ 50.274984 ┆ 2.852314 │\n",
       "│           ┆ 022         ┆     ┆             ┆   ┆            ┆            ┆           ┆          │\n",
       "│ …         ┆ …           ┆ …   ┆ …           ┆ … ┆ …          ┆ …          ┆ …         ┆ …        │\n",
       "│ 344280979 ┆ 34428097900 ┆ 8   ┆ 59034       ┆ … ┆ 59         ┆ 59034      ┆ 50.541762 ┆ 3.098688 │\n",
       "│           ┆ 057         ┆     ┆             ┆   ┆            ┆            ┆           ┆          │\n",
       "│ 344280979 ┆ 34428097900 ┆ 8   ┆ 59034       ┆ … ┆ 59         ┆ 59034      ┆ 50.541762 ┆ 3.098688 │\n",
       "│           ┆ 057         ┆     ┆             ┆   ┆            ┆            ┆           ┆          │\n",
       "│ 344280979 ┆ 34428097900 ┆ 8   ┆ 59034       ┆ … ┆ 59         ┆ 59034      ┆ 50.541762 ┆ 3.098688 │\n",
       "│           ┆ 057         ┆     ┆             ┆   ┆            ┆            ┆           ┆          │\n",
       "│ 344280979 ┆ 34428097900 ┆ 8   ┆ 59034       ┆ … ┆ 59         ┆ 59034      ┆ 50.541762 ┆ 3.098688 │\n",
       "│           ┆ 057         ┆     ┆             ┆   ┆            ┆            ┆           ┆          │\n",
       "│ 344280979 ┆ 34428097900 ┆ 8   ┆ 59034       ┆ … ┆ 59         ┆ 59034      ┆ 50.541762 ┆ 3.098688 │\n",
       "│           ┆ 057         ┆     ┆             ┆   ┆            ┆            ┆           ┆          │\n",
       "└───────────┴─────────────┴─────┴─────────────┴───┴────────────┴────────────┴───────────┴──────────┘"
      ]
     },
     "execution_count": 40,
     "metadata": {},
     "output_type": "execute_result"
    }
   ],
   "source": [
    "df_total "
   ]
  },
  {
   "cell_type": "code",
   "execution_count": 41,
   "metadata": {},
   "outputs": [],
   "source": [
    "OUTPUT_PATH = r\".\\data\\output\\ouput.csv\"\n",
    "df_total.write_csv(OUTPUT_PATH)"
   ]
  }
 ],
 "metadata": {
  "kernelspec": {
   "display_name": ".venv",
   "language": "python",
   "name": "python3"
  },
  "language_info": {
   "codemirror_mode": {
    "name": "ipython",
    "version": 3
   },
   "file_extension": ".py",
   "mimetype": "text/x-python",
   "name": "python",
   "nbconvert_exporter": "python",
   "pygments_lexer": "ipython3",
   "version": "3.12.2"
  }
 },
 "nbformat": 4,
 "nbformat_minor": 2
}
